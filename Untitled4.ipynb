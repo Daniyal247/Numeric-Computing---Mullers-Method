{
 "cells": [
  {
   "cell_type": "code",
   "execution_count": null,
   "id": "7d2a35d7",
   "metadata": {},
   "outputs": [],
   "source": [
    "# Muller's method\n",
    "#equation 1\n",
    "import math as m\n",
    "\n",
    "def f(x):\n",
    "    return m.cos(x)-1.3*x\n",
    "def muller(x0, x1, x2, tol):\n",
    "    for i in range(6):\n",
    "        d1 = f(x0) - f(x2)\n",
    "        d2 = f(x1) - f(x2)\n",
    "        c = f(x1)\n",
    "        h1 = x0 - x2\n",
    "        h2 = x1 - x2\n",
    "\n",
    "        a = ((h1*d2)-(h2*d1))/((h1*h2)*(x1-x0))\n",
    "        b = ((h1**2)*d2-(h2**2)*d1)/((x0-x1)*(h2*h1))\n",
    "\n",
    "        if b>0:\n",
    "            xr = x1-(2*c)/(b+m.sqrt(b**2-4*a*c))\n",
    "        else:\n",
    "            xr = x1-(2*c)/(b-m.sqrt(b**2-4*a*c))\n",
    "\n",
    "        if abs((xr-x1)/xr)<tol:\n",
    "            print('Num of iterations: ', i+1)\n",
    "            print('root: ', xr)\n",
    "            print('tolerance: ', tol)\n",
    "            break\n",
    "\n",
    "        if (x1>xr):\n",
    "            x2 = x1\n",
    "            x1 = xr\n",
    "        else:\n",
    "            x0 = x1\n",
    "            x1 = xr\n",
    "        \n",
    "x0 = 0\n",
    "x1 = 0.5\n",
    "x2 = 1\n",
    "tol1 = 0.01\n",
    "tol2 = 0.001\n",
    "tol3 = 0.0001\n",
    "muller(x0, x1, x2, tol1)\n",
    "muller(x0, x1, x2, tol2)\n",
    "muller(x0, x1, x2, tol3)\n",
    "\n",
    "#Code written by Syed Danial Khurram"
   ]
  }
 ],
 "metadata": {
  "kernelspec": {
   "display_name": "Python 3 (ipykernel)",
   "language": "python",
   "name": "python3"
  },
  "language_info": {
   "codemirror_mode": {
    "name": "ipython",
    "version": 3
   },
   "file_extension": ".py",
   "mimetype": "text/x-python",
   "name": "python",
   "nbconvert_exporter": "python",
   "pygments_lexer": "ipython3",
   "version": "3.9.7"
  }
 },
 "nbformat": 4,
 "nbformat_minor": 5
}
